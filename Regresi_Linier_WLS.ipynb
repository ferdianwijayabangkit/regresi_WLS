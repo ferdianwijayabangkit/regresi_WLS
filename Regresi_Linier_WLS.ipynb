{
 "cells": [
  {
   "cell_type": "markdown",
   "id": "c5ff2db3",
   "metadata": {},
   "source": [
    "## Pendahuluan\n",
    "\n",
    "Dokumen ini merupakan kelanjutan dari analisis regresi OLS. Tujuannya adalah untuk membangun model regresi menggunakan metode **Weighted Least Squares (WLS)**. WLS adalah metode yang tepat digunakan ketika asumsi homoskedastisitas (varians sisaan yang konstan) pada model OLS tidak terpenuhi.\n",
    "\n",
    "WLS bekerja dengan memberikan \"bobot\" yang berbeda pada setiap observasi. Observasi dengan varians sisaan yang lebih besar (kurang dapat diandalkan) akan diberi bobot lebih kecil, dan sebaliknya."
   ]
  },
  {
   "cell_type": "markdown",
   "id": "2749e0ed",
   "metadata": {},
   "source": [
    "## 1. Memuat Paket dan Data"
   ]
  },
  {
   "cell_type": "code",
   "execution_count": 2,
   "id": "17144870",
   "metadata": {},
   "outputs": [],
   "source": [
    "# Impor paket untuk manipulasi data\n",
    "import pandas as pd\n",
    "import numpy as np\n",
    "\n",
    "# Impor paket untuk pemodelan statistik\n",
    "import statsmodels.api as sm\n",
    "import statsmodels.formula.api as smf\n",
    "# PERBAIKAN: Impor het_white sebagai pengganti het_koenker\n",
    "from statsmodels.stats.diagnostic import het_breuschpagan, het_white\n",
    "from statsmodels.stats.stattools import durbin_watson\n",
    "from statsmodels.stats.outliers_influence import variance_inflation_factor\n",
    "\n",
    "# Impor paket untuk uji statistik\n",
    "from scipy import stats\n",
    "\n",
    "# Impor paket untuk visualisasi\n",
    "import matplotlib.pyplot as plt\n",
    "import seaborn as sns\n",
    "\n",
    "# Mengatur agar plot ditampilkan di dalam notebook\n",
    "%matplotlib inline\n",
    "sns.set_style('whitegrid')"
   ]
  },
  {
   "cell_type": "markdown",
   "id": "305ba80d",
   "metadata": {},
   "source": [
    "### Mengimpor Data dari File Excel"
   ]
  },
  {
   "cell_type": "code",
   "execution_count": 3,
   "id": "ede51f3f",
   "metadata": {},
   "outputs": [],
   "source": [
    "# Ganti path file di bawah ini sesuai lokasi di komputer Anda!\n",
    "file_path = \"C:/Users/user/OneDrive - untirta.ac.id/R Script/Github_Regresi_OLS/data_simulasi_gls.xlsx\"\n",
    "data_WLS = pd.read_excel(file_path)"
   ]
  },
  {
   "cell_type": "markdown",
   "id": "6224f33b",
   "metadata": {},
   "source": [
    "### Menampilkan Data yang Diimpor"
   ]
  },
  {
   "cell_type": "code",
   "execution_count": 4,
   "id": "d6ad5698",
   "metadata": {},
   "outputs": [
    {
     "data": {
      "application/vnd.microsoft.datawrangler.viewer.v0+json": {
       "columns": [
        {
         "name": "index",
         "rawType": "int64",
         "type": "integer"
        },
        {
         "name": "y",
         "rawType": "float64",
         "type": "float"
        },
        {
         "name": "x1",
         "rawType": "int64",
         "type": "integer"
        },
        {
         "name": "x2",
         "rawType": "float64",
         "type": "float"
        },
        {
         "name": "x3",
         "rawType": "float64",
         "type": "float"
        },
        {
         "name": "time",
         "rawType": "int64",
         "type": "integer"
        }
       ],
       "ref": "e967a772-f9ac-4b9d-838e-641efb9af09e",
       "rows": [
        [
         "0",
         "44.24526378014506",
         "1",
         "63.95720929838717",
         "53.70892256454682",
         "1"
        ],
        [
         "1",
         "35.03337340526014",
         "2",
         "48.54568594601005",
         "37.71990714496678",
         "2"
        ],
        [
         "2",
         "47.91869102398344",
         "3",
         "50.85295128170401",
         "48.378022897474",
         "3"
        ],
        [
         "3",
         "59.39112590744613",
         "4",
         "49.90593539085239",
         "60.88071523995178",
         "4"
        ],
        [
         "4",
         "45.62188858838133",
         "5",
         "66.81707142386585",
         "53.59201366064308",
         "5"
        ],
        [
         "5",
         "76.92316957103166",
         "6",
         "50.25512952823192",
         "60.67191155286535",
         "6"
        ]
       ],
       "shape": {
        "columns": 5,
        "rows": 6
       }
      },
      "text/html": [
       "<div>\n",
       "<style scoped>\n",
       "    .dataframe tbody tr th:only-of-type {\n",
       "        vertical-align: middle;\n",
       "    }\n",
       "\n",
       "    .dataframe tbody tr th {\n",
       "        vertical-align: top;\n",
       "    }\n",
       "\n",
       "    .dataframe thead th {\n",
       "        text-align: right;\n",
       "    }\n",
       "</style>\n",
       "<table border=\"1\" class=\"dataframe\">\n",
       "  <thead>\n",
       "    <tr style=\"text-align: right;\">\n",
       "      <th></th>\n",
       "      <th>y</th>\n",
       "      <th>x1</th>\n",
       "      <th>x2</th>\n",
       "      <th>x3</th>\n",
       "      <th>time</th>\n",
       "    </tr>\n",
       "  </thead>\n",
       "  <tbody>\n",
       "    <tr>\n",
       "      <th>0</th>\n",
       "      <td>44.245264</td>\n",
       "      <td>1</td>\n",
       "      <td>63.957209</td>\n",
       "      <td>53.708923</td>\n",
       "      <td>1</td>\n",
       "    </tr>\n",
       "    <tr>\n",
       "      <th>1</th>\n",
       "      <td>35.033373</td>\n",
       "      <td>2</td>\n",
       "      <td>48.545686</td>\n",
       "      <td>37.719907</td>\n",
       "      <td>2</td>\n",
       "    </tr>\n",
       "    <tr>\n",
       "      <th>2</th>\n",
       "      <td>47.918691</td>\n",
       "      <td>3</td>\n",
       "      <td>50.852951</td>\n",
       "      <td>48.378023</td>\n",
       "      <td>3</td>\n",
       "    </tr>\n",
       "    <tr>\n",
       "      <th>3</th>\n",
       "      <td>59.391126</td>\n",
       "      <td>4</td>\n",
       "      <td>49.905935</td>\n",
       "      <td>60.880715</td>\n",
       "      <td>4</td>\n",
       "    </tr>\n",
       "    <tr>\n",
       "      <th>4</th>\n",
       "      <td>45.621889</td>\n",
       "      <td>5</td>\n",
       "      <td>66.817071</td>\n",
       "      <td>53.592014</td>\n",
       "      <td>5</td>\n",
       "    </tr>\n",
       "    <tr>\n",
       "      <th>5</th>\n",
       "      <td>76.923170</td>\n",
       "      <td>6</td>\n",
       "      <td>50.255130</td>\n",
       "      <td>60.671912</td>\n",
       "      <td>6</td>\n",
       "    </tr>\n",
       "  </tbody>\n",
       "</table>\n",
       "</div>"
      ],
      "text/plain": [
       "           y  x1         x2         x3  time\n",
       "0  44.245264   1  63.957209  53.708923     1\n",
       "1  35.033373   2  48.545686  37.719907     2\n",
       "2  47.918691   3  50.852951  48.378023     3\n",
       "3  59.391126   4  49.905935  60.880715     4\n",
       "4  45.621889   5  66.817071  53.592014     5\n",
       "5  76.923170   6  50.255130  60.671912     6"
      ]
     },
     "execution_count": 4,
     "metadata": {},
     "output_type": "execute_result"
    }
   ],
   "source": [
    "data_WLS.head(6)"
   ]
  },
  {
   "cell_type": "markdown",
   "id": "97e42036",
   "metadata": {},
   "source": [
    "## 2. Model OLS Awal (Untuk Diagnosis)\n",
    "\n",
    "Sebelum melakukan WLS, kita harus menjalankan model OLS terlebih dahulu untuk mengkonfirmasi adanya heteroskedastisitas. Sisaan dari model ini akan kita gunakan untuk diagnosis lebih lanjut."
   ]
  },
  {
   "cell_type": "code",
   "execution_count": 5,
   "id": "b3d240f0",
   "metadata": {},
   "outputs": [],
   "source": [
    "# Membangun model OLS awal\n",
    "model_ols_awal = smf.ols('y ~ x1 + x2 + x3', data=data_WLS).fit()"
   ]
  },
  {
   "cell_type": "markdown",
   "id": "91bc4df1",
   "metadata": {},
   "source": [
    "## 3. Uji Asumsi Klasik pada Model OLS\n",
    "Kita akan melakukan serangkaian uji formal pada sisaan model OLS untuk memvalidasi asumsi-asumsinya."
   ]
  },
  {
   "cell_type": "markdown",
   "id": "5f808e13",
   "metadata": {},
   "source": [
    "#### Uji Normalitas (Shapiro-Wilk)"
   ]
  },
  {
   "cell_type": "code",
   "execution_count": 6,
   "id": "e029c04e",
   "metadata": {},
   "outputs": [
    {
     "name": "stdout",
     "output_type": "stream",
     "text": [
      "--- Uji Normalitas (Shapiro-Wilk) ---\n",
      "Statistik Uji: 0.9831, P-value: 0.2304\n"
     ]
    }
   ],
   "source": [
    "# Dapatkan sisaan dari model OLS\n",
    "residuals_ols = model_ols_awal.resid\n",
    "\n",
    "# Lakukan Uji Shapiro-Wilk\n",
    "shapiro_test = stats.shapiro(residuals_ols)\n",
    "print(f\"--- Uji Normalitas (Shapiro-Wilk) ---\")\n",
    "print(f\"Statistik Uji: {shapiro_test.statistic:.4f}, P-value: {shapiro_test.pvalue:.4f}\")"
   ]
  },
  {
   "cell_type": "markdown",
   "id": "68820e9b",
   "metadata": {},
   "source": [
    "#### Uji Homoskedastisitas (Breusch-Pagan)"
   ]
  },
  {
   "cell_type": "code",
   "execution_count": 7,
   "id": "c5a277b0",
   "metadata": {},
   "outputs": [
    {
     "name": "stdout",
     "output_type": "stream",
     "text": [
      "--- Uji Homoskedastisitas (Breusch-Pagan) ---\n",
      "LM Statistic: 20.1846\n",
      "LM-Test p-value: 0.0002\n",
      "F-Statistic: 8.0925\n",
      "F-Test p-value: 0.0001\n"
     ]
    }
   ],
   "source": [
    "# Lakukan Uji Breusch-Pagan\n",
    "bp_test = het_breuschpagan(residuals_ols, model_ols_awal.model.exog)\n",
    "labels = ['LM Statistic', 'LM-Test p-value', 'F-Statistic', 'F-Test p-value']\n",
    "print(\"--- Uji Homoskedastisitas (Breusch-Pagan) ---\")\n",
    "for label, value in zip(labels, bp_test):\n",
    "    print(f\"{label}: {value:.4f}\")"
   ]
  },
  {
   "cell_type": "markdown",
   "id": "6badfeb1",
   "metadata": {},
   "source": [
    "#### Uji Autokorelasi (Durbin-Watson)"
   ]
  },
  {
   "cell_type": "code",
   "execution_count": 8,
   "id": "b0faba69",
   "metadata": {},
   "outputs": [
    {
     "name": "stdout",
     "output_type": "stream",
     "text": [
      "--- Uji Autokorelasi (Durbin-Watson) ---\n",
      "Statistik D-W: 0.7408\n"
     ]
    }
   ],
   "source": [
    "# Hitung statistik Durbin-Watson\n",
    "dw_stat = durbin_watson(residuals_ols)\n",
    "print(f\"--- Uji Autokorelasi (Durbin-Watson) ---\")\n",
    "print(f\"Statistik D-W: {dw_stat:.4f}\")"
   ]
  },
  {
   "cell_type": "markdown",
   "id": "c96baede",
   "metadata": {},
   "source": [
    "#### Uji Multikolinearitas (VIF)"
   ]
  },
  {
   "cell_type": "code",
   "execution_count": 9,
   "id": "b4d72f48",
   "metadata": {},
   "outputs": [
    {
     "name": "stdout",
     "output_type": "stream",
     "text": [
      "--- Uji Multikolinearitas (VIF) ---\n",
      "  feature       VIF\n",
      "1      x1  1.007994\n",
      "2      x2  1.002954\n",
      "3      x3  1.010958\n"
     ]
    }
   ],
   "source": [
    "# Siapkan data untuk VIF\n",
    "X = data_WLS[['x1', 'x2', 'x3']]\n",
    "X = sm.add_constant(X, has_constant='add')\n",
    "\n",
    "# Hitung VIF\n",
    "vif_data = pd.DataFrame()\n",
    "vif_data[\"feature\"] = X.columns\n",
    "vif_data[\"VIF\"] = [variance_inflation_factor(X.values, i) for i in range(len(X.columns))]\n",
    "\n",
    "print(\"--- Uji Multikolinearitas (VIF) ---\")\n",
    "print(vif_data[vif_data['feature'] != 'const'])"
   ]
  },
  {
   "cell_type": "markdown",
   "id": "54980040",
   "metadata": {},
   "source": [
    "## 4. Diagnosis Visual untuk Menentukan Sumber Heteroskedastisitas\n",
    "\n",
    "Kita akan mem-plot nilai absolut dari sisaan terhadap setiap variabel independen untuk mencari pola \"corong\" yang dapat mengindikasikan sumber heteroskedastisitas."
   ]
  },
  {
   "cell_type": "code",
   "execution_count": 10,
   "id": "bfc514b1",
   "metadata": {},
   "outputs": [
    {
     "data": {
      "image/png": "[encoded data removed]",
      "text/plain": [
       "<Figure size 1400x1000 with 4 Axes>"
      ]
     },
     "metadata": {},
     "output_type": "display_data"
    }
   ],
   "source": [
    "# Dapatkan nilai absolut sisaan dan nilai prediksi\n",
    "sisaan_abs = np.abs(residuals_ols)\n",
    "fitted_vals = model_ols_awal.fittedvalues\n",
    "\n",
    "# Buat 4 plot diagnostik\n",
    "fig, axes = plt.subplots(2, 2, figsize=(14, 10))\n",
    "fig.suptitle('Diagnosis Visual Heteroskedastisitas', fontsize=16)\n",
    "\n",
    "axes[0, 0].scatter(data_WLS['x1'], sisaan_abs)\n",
    "axes[0, 0].set_title('Sisaan Absolut vs. X1')\n",
    "axes[0, 0].set_xlabel('x1')\n",
    "axes[0, 0].set_ylabel('Absolut Sisaan')\n",
    "\n",
    "axes[0, 1].scatter(data_WLS['x2'], sisaan_abs)\n",
    "axes[0, 1].set_title('Sisaan Absolut vs. X2')\n",
    "axes[0, 1].set_xlabel('x2')\n",
    "axes[0, 1].set_ylabel('Absolut Sisaan')\n",
    "\n",
    "axes[1, 0].scatter(data_WLS['x3'], sisaan_abs)\n",
    "axes[1, 0].set_title('Sisaan Absolut vs. X3')\n",
    "axes[1, 0].set_xlabel('x3')\n",
    "axes[1, 0].set_ylabel('Absolut Sisaan')\n",
    "\n",
    "axes[1, 1].scatter(fitted_vals, sisaan_abs)\n",
    "axes[1, 1].set_title('Sisaan Absolut vs. Fitted Values')\n",
    "axes[1, 1].set_xlabel('Fitted Values')\n",
    "axes[1, 1].set_ylabel('Absolut Sisaan')\n",
    "\n",
    "plt.tight_layout(rect=[0, 0, 1, 0.96])\n",
    "plt.show()"
   ]
  },
  {
   "cell_type": "markdown",
   "id": "2f9dde80",
   "metadata": {},
   "source": [
    "## 5. Keputusan Skema Pembobotan dan Pemodelan WLS\n",
    "\n",
    "Berdasarkan analisis visual, pola corong paling jelas terlihat pada plot `Sisaan Absolut vs. X1`. Pola corong yang batas atasnya terlihat linear mengindikasikan bahwa standar deviasi sisaan sebanding dengan `x1`, sehingga varians sisaan sebanding dengan `x1^2`. Oleh karena itu, kita memilih skema pembobotan `w = 1 / x1^2`."
   ]
  },
  {
   "cell_type": "code",
   "execution_count": 11,
   "id": "9d3e5657",
   "metadata": {},
   "outputs": [
    {
     "name": "stdout",
     "output_type": "stream",
     "text": [
      "                            WLS Regression Results                            \n",
      "==============================================================================\n",
      "Dep. Variable:                      y   R-squared:                       0.642\n",
      "Model:                            WLS   Adj. R-squared:                  0.631\n",
      "Method:                 Least Squares   F-statistic:                     57.45\n",
      "Date:                Wed, 03 Sep 2025   Prob (F-statistic):           2.36e-21\n",
      "Time:                        16:12:25   Log-Likelihood:                -581.87\n",
      "No. Observations:                 100   AIC:                             1172.\n",
      "Df Residuals:                      96   BIC:                             1182.\n",
      "Df Model:                           3                                         \n",
      "Covariance Type:            nonrobust                                         \n",
      "==============================================================================\n",
      "                 coef    std err          t      P>|t|      [0.025      0.975]\n",
      "------------------------------------------------------------------------------\n",
      "Intercept      7.2586     14.775      0.491      0.624     -22.070      36.587\n",
      "x1             2.9778      0.248     12.005      0.000       2.485       3.470\n",
      "x2            -0.4109      0.239     -1.718      0.089      -0.886       0.064\n",
      "x3             1.1321      0.297      3.814      0.000       0.543       1.721\n",
      "==============================================================================\n",
      "Omnibus:                        1.499   Durbin-Watson:                   0.520\n",
      "Prob(Omnibus):                  0.473   Jarque-Bera (JB):                1.321\n",
      "Skew:                          -0.127   Prob(JB):                        0.517\n",
      "Kurtosis:                       2.497   Cond. No.                         678.\n",
      "==============================================================================\n",
      "\n",
      "Notes:\n",
      "[1] Standard Errors assume that the covariance matrix of the errors is correctly specified.\n"
     ]
    }
   ],
   "source": [
    "# Menghitung bobot berdasarkan x1^2\n",
    "# Menambahkan nilai kecil (epsilon) untuk menghindari pembagian dengan nol jika ada x1=0\n",
    "epsilon = 1e-8\n",
    "bobot_wls = 1 / (data_WLS['x1']**2 + epsilon)\n",
    "\n",
    "# Membangun model WLS menggunakan formula dan bobot\n",
    "model_wls = smf.wls('y ~ x1 + x2 + x3', data=data_WLS, weights=bobot_wls).fit()\n",
    "\n",
    "# Menampilkan ringkasan model WLS\n",
    "print(model_wls.summary())"
   ]
  },
  {
   "cell_type": "markdown",
   "id": "493b1f68",
   "metadata": {},
   "source": [
    "## 6. Uji Asumsi Ulang pada Model WLS\n",
    "\n",
    "Setelah membangun model WLS, kita wajib memeriksa kembali asumsi-asumsinya untuk memastikan metode ini berhasil memperbaiki masalah yang ada, terutama heteroskedastisitas."
   ]
  },
  {
   "cell_type": "code",
   "execution_count": 12,
   "id": "f58bbbee",
   "metadata": {},
   "outputs": [],
   "source": [
    "# Dapatkan sisaan dari model WLS\n",
    "residuals_wls = model_wls.resid"
   ]
  },
  {
   "cell_type": "markdown",
   "id": "1b21b3cc",
   "metadata": {},
   "source": [
    "#### Uji Normalitas (Shapiro-Wilk) pada WLS"
   ]
  },
  {
   "cell_type": "code",
   "execution_count": 13,
   "id": "6db60409",
   "metadata": {},
   "outputs": [
    {
     "name": "stdout",
     "output_type": "stream",
     "text": [
      "--- Uji Normalitas (Shapiro-Wilk) pada WLS ---\n",
      "Statistik Uji: 0.9357, P-value: 0.0001\n"
     ]
    }
   ],
   "source": [
    "shapiro_wls = stats.shapiro(residuals_wls)\n",
    "print(f\"--- Uji Normalitas (Shapiro-Wilk) pada WLS ---\")\n",
    "print(f\"Statistik Uji: {shapiro_wls.statistic:.4f}, P-value: {shapiro_wls.pvalue:.4f}\")"
   ]
  },
  {
   "cell_type": "markdown",
   "id": "c9fe1f21",
   "metadata": {},
   "source": [
    "#### Uji Homoskedastisitas (Breusch-Pagan) pada WLS\n",
    "Kita berharap *p-value* dari uji ini sekarang tidak lagi signifikan (> 0.05), yang menandakan masalah heteroskedastisitas sudah teratasi."
   ]
  },
  {
   "cell_type": "code",
   "execution_count": 20,
   "id": "64ebdd0d",
   "metadata": {},
   "outputs": [
    {
     "name": "stdout",
     "output_type": "stream",
     "text": [
      "--- Uji Homoskedastisitas (Breusch-Pagan) pada WLS ---\n",
      "LM Statistic: 1.7198\n",
      "LM-Test p-value: 0.6325\n",
      "F-Statistic: 0.5600\n",
      "F-Test p-value: 0.6427\n"
     ]
    }
   ],
   "source": [
    "# --- Uji Homoskedastisitas (Breusch-Pagan) pada WLS ---\n",
    "\n",
    "# 1. Dapatkan akar kuadrat dari bobot\n",
    "sqrt_weights = np.sqrt(bobot_wls)\n",
    "\n",
    "# 2. Siapkan variabel dependen (y) dan independen (X) dari data asli\n",
    "X = data_WLS[['x1', 'x2', 'x3']]\n",
    "X = sm.add_constant(X, has_constant='add')\n",
    "y = data_WLS['y']\n",
    "\n",
    "# 3. Transformasikan variabel\n",
    "X_transformed = X.multiply(sqrt_weights, axis=0)\n",
    "y_transformed = y * sqrt_weights\n",
    "\n",
    "# 4. Buat model OLS pada data yang sudah ditransformasi untuk mendapatkan sisaan WLS yang tepat\n",
    "model_transformed_ols = sm.OLS(y_transformed, X_transformed).fit()\n",
    "\n",
    "# 5. Jalankan Uji Breusch-Pagan menggunakan sisaan dari model transformasi,\n",
    "#    TETAPI terhadap variabel X ASLI (dari model OLS awal).\n",
    "bp_wls_correct = het_breuschpagan(model_transformed_ols.resid, model_ols_awal.model.exog)\n",
    "\n",
    "print(\"--- Uji Homoskedastisitas (Breusch-Pagan) pada WLS ---\")\n",
    "labels = ['LM Statistic', 'LM-Test p-value', 'F-Statistic', 'F-Test p-value']\n",
    "for label, value in zip(labels, bp_wls_correct):\n",
    "    print(f\"{label}: {value:.4f}\")"
   ]
  },
  {
   "cell_type": "markdown",
   "id": "68408a5d",
   "metadata": {},
   "source": [
    "#### Uji Autokorelasi (Durbin-Watson) pada WLS"
   ]
  },
  {
   "cell_type": "code",
   "execution_count": 21,
   "id": "ed840bda",
   "metadata": {},
   "outputs": [
    {
     "name": "stdout",
     "output_type": "stream",
     "text": [
      "--- Uji Autokorelasi (Durbin-Watson) pada WLS ---\n",
      "Statistik D-W: 0.6147\n"
     ]
    }
   ],
   "source": [
    "# Hitung statistik Durbin-Watson pada sisaan WLS\n",
    "dw_wls = durbin_watson(model_wls.resid)\n",
    "print(f\"--- Uji Autokorelasi (Durbin-Watson) pada WLS ---\")\n",
    "print(f\"Statistik D-W: {dw_wls:.4f}\")"
   ]
  },
  {
   "cell_type": "markdown",
   "id": "84a328a9",
   "metadata": {},
   "source": [
    "#### Uji Multikolinearitas (VIF) pada WLS\n",
    "Nilai VIF tidak dipengaruhi oleh pembobotan, sehingga hasilnya akan sama dengan model OLS."
   ]
  },
  {
   "cell_type": "code",
   "execution_count": 25,
   "id": "0298819f",
   "metadata": {},
   "outputs": [
    {
     "name": "stdout",
     "output_type": "stream",
     "text": [
      "--- Uji Multikolinearitas (VIF) ---\n",
      "  feature       VIF\n",
      "1      x1  1.007994\n",
      "2      x2  1.002954\n",
      "3      x3  1.010958\n"
     ]
    }
   ],
   "source": [
    "# VIF dihitung pada data X yang sama seperti pada model OLS\n",
    "# Kita bisa menampilkan kembali DataFrame vif_data yang sudah dibuat sebelumnya\n",
    "print(\"--- Uji Multikolinearitas (VIF) ---\")\n",
    "print(vif_data[vif_data['feature'] != 'const'])"
   ]
  },
  {
   "cell_type": "markdown",
   "id": "9085b585",
   "metadata": {},
   "source": [
    "## 7. Evaluasi Kebaikan Model (Goodness-of-Fit)"
   ]
  },
  {
   "cell_type": "code",
   "execution_count": 26,
   "id": "81bf1f79",
   "metadata": {},
   "outputs": [
    {
     "name": "stdout",
     "output_type": "stream",
     "text": [
      "Metrik Kebaikan Model (Goodness-of-Fit) untuk WLS\n"
     ]
    },
    {
     "data": {
      "application/vnd.microsoft.datawrangler.viewer.v0+json": {
       "columns": [
        {
         "name": "index",
         "rawType": "int64",
         "type": "integer"
        },
        {
         "name": "Metrik",
         "rawType": "object",
         "type": "string"
        },
        {
         "name": "Nilai",
         "rawType": "float64",
         "type": "float"
        }
       ],
       "ref": "a4162b0c-d0a0-4238-bc89-a2282de78528",
       "rows": [
        [
         "0",
         "R-squared",
         "0.6422657412396624"
        ],
        [
         "1",
         "Adjusted R-squared",
         "0.6310865456534018"
        ],
        [
         "2",
         "AIC",
         "1171.7468391247253"
        ],
        [
         "3",
         "BIC",
         "1182.1675198686776"
        ]
       ],
       "shape": {
        "columns": 2,
        "rows": 4
       }
      },
      "text/html": [
       "<div>\n",
       "<style scoped>\n",
       "    .dataframe tbody tr th:only-of-type {\n",
       "        vertical-align: middle;\n",
       "    }\n",
       "\n",
       "    .dataframe tbody tr th {\n",
       "        vertical-align: top;\n",
       "    }\n",
       "\n",
       "    .dataframe thead th {\n",
       "        text-align: right;\n",
       "    }\n",
       "</style>\n",
       "<table border=\"1\" class=\"dataframe\">\n",
       "  <thead>\n",
       "    <tr style=\"text-align: right;\">\n",
       "      <th></th>\n",
       "      <th>Metrik</th>\n",
       "      <th>Nilai</th>\n",
       "    </tr>\n",
       "  </thead>\n",
       "  <tbody>\n",
       "    <tr>\n",
       "      <th>0</th>\n",
       "      <td>R-squared</td>\n",
       "      <td>0.642266</td>\n",
       "    </tr>\n",
       "    <tr>\n",
       "      <th>1</th>\n",
       "      <td>Adjusted R-squared</td>\n",
       "      <td>0.631087</td>\n",
       "    </tr>\n",
       "    <tr>\n",
       "      <th>2</th>\n",
       "      <td>AIC</td>\n",
       "      <td>1171.746839</td>\n",
       "    </tr>\n",
       "    <tr>\n",
       "      <th>3</th>\n",
       "      <td>BIC</td>\n",
       "      <td>1182.167520</td>\n",
       "    </tr>\n",
       "  </tbody>\n",
       "</table>\n",
       "</div>"
      ],
      "text/plain": [
       "               Metrik        Nilai\n",
       "0           R-squared     0.642266\n",
       "1  Adjusted R-squared     0.631087\n",
       "2                 AIC  1171.746839\n",
       "3                 BIC  1182.167520"
      ]
     },
     "execution_count": 26,
     "metadata": {},
     "output_type": "execute_result"
    }
   ],
   "source": [
    "# Ekstrak metrik dari model WLS\n",
    "# Catatan: R-squared pada WLS harus diinterpretasikan dengan hati-hati\n",
    "r_squared_wls = model_wls.rsquared\n",
    "adj_r_squared_wls = model_wls.rsquared_adj\n",
    "model_aic_wls = model_wls.aic\n",
    "model_bic_wls = model_wls.bic\n",
    "\n",
    "# Buat DataFrame untuk menampilkan hasil\n",
    "evaluasi_data_wls = {\n",
    "    'Metrik': ['R-squared', 'Adjusted R-squared', 'AIC', 'BIC'],\n",
    "    'Nilai': [r_squared_wls, adj_r_squared_wls, model_aic_wls, model_bic_wls]\n",
    "}\n",
    "evaluasi_df_wls = pd.DataFrame(evaluasi_data_wls)\n",
    "\n",
    "print(\"Metrik Kebaikan Model (Goodness-of-Fit) untuk WLS\")\n",
    "evaluasi_df_wls"
   ]
  },
  {
   "cell_type": "code",
   "execution_count": null,
   "id": "42f6e705",
   "metadata": {},
   "outputs": [],
   "source": []
  }
 ],
 "metadata": {
  "kernelspec": {
   "display_name": "Python 3",
   "language": "python",
   "name": "python3"
  },
  "language_info": {
   "codemirror_mode": {
    "name": "ipython",
    "version": 3
   },
   "file_extension": ".py",
   "mimetype": "text/x-python",
   "name": "python",
   "nbconvert_exporter": "python",
   "pygments_lexer": "ipython3",
   "version": "3.13.1"
  }
 },
 "nbformat": 4,
 "nbformat_minor": 5
}
